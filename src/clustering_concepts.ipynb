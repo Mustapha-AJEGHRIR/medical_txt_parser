{
 "cells": [
  {
   "cell_type": "markdown",
   "metadata": {},
   "source": [
    "# TODO"
   ]
  },
  {
   "cell_type": "markdown",
   "metadata": {},
   "source": [
    " - Embeddings for all concepts\n",
    " - Each concept has a list of neighboring concepts based on similarity (e.g. cosine similarity)\n",
    " - The searched term will be embedded and compared to all concepts\n",
    " - Return patients having the neighboring concepts of the searched term"
   ]
  },
  {
   "cell_type": "code",
   "execution_count": null,
   "metadata": {},
   "outputs": [],
   "source": []
  }
 ],
 "metadata": {
  "language_info": {
   "name": "python"
  },
  "orig_nbformat": 4
 },
 "nbformat": 4,
 "nbformat_minor": 2
}
