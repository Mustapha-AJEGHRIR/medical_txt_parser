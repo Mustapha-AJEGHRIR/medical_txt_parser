{
 "cells": [
  {
   "cell_type": "code",
   "execution_count": 2,
   "metadata": {},
   "outputs": [],
   "source": [
    "from data_preprocessing import Squad"
   ]
  },
  {
   "cell_type": "code",
   "execution_count": 4,
   "metadata": {},
   "outputs": [],
   "source": [
    "d = Squad()"
   ]
  },
  {
   "cell_type": "code",
   "execution_count": 20,
   "metadata": {},
   "outputs": [
    {
     "data": {
      "text/plain": [
       "['name',\n",
       " 'hash',\n",
       " 'base_path',\n",
       " 'use_auth_token',\n",
       " 'namespace',\n",
       " 'config',\n",
       " 'config_id',\n",
       " 'info',\n",
       " '_cache_dir_root',\n",
       " '_cache_downloaded_dir',\n",
       " '_cache_dir',\n",
       " 'dl_manager',\n",
       " '_writer_batch_size',\n",
       " '__module__',\n",
       " '__doc__',\n",
       " 'BUILDER_CONFIGS',\n",
       " '_info',\n",
       " '_split_generators',\n",
       " '_generate_examples',\n",
       " 'test_dummy_data',\n",
       " 'DEFAULT_WRITER_BATCH_SIZE',\n",
       " '__init__',\n",
       " '_prepare_split',\n",
       " '_get_examples_iterable_for_split',\n",
       " 'VERSION',\n",
       " 'BUILDER_CONFIG_CLASS',\n",
       " 'DEFAULT_CONFIG_NAME',\n",
       " 'manual_download_instructions',\n",
       " 'get_all_exported_dataset_infos',\n",
       " 'get_exported_dataset_info',\n",
       " '_create_builder_config',\n",
       " 'builder_configs',\n",
       " 'cache_dir',\n",
       " '_relative_data_dir',\n",
       " '_build_cache_dir',\n",
       " 'get_imported_module_dir',\n",
       " 'download_and_prepare',\n",
       " '_check_manual_download',\n",
       " '_download_prepared_from_hf_gcs',\n",
       " '_download_and_prepare',\n",
       " 'download_post_processing_resources',\n",
       " '_load_info',\n",
       " '_save_info',\n",
       " '_save_infos',\n",
       " '_make_split_generators_kwargs',\n",
       " 'as_dataset',\n",
       " '_build_single_dataset',\n",
       " '_as_dataset',\n",
       " '_get_dataset_fingerprint',\n",
       " 'as_streaming_dataset',\n",
       " '_as_streaming_dataset_single',\n",
       " '_post_process',\n",
       " '_post_processing_resources',\n",
       " '_download_post_processing_resources',\n",
       " '__dict__',\n",
       " '__weakref__',\n",
       " '__repr__',\n",
       " '__hash__',\n",
       " '__str__',\n",
       " '__getattribute__',\n",
       " '__setattr__',\n",
       " '__delattr__',\n",
       " '__lt__',\n",
       " '__le__',\n",
       " '__eq__',\n",
       " '__ne__',\n",
       " '__gt__',\n",
       " '__ge__',\n",
       " '__new__',\n",
       " '__reduce_ex__',\n",
       " '__reduce__',\n",
       " '__subclasshook__',\n",
       " '__init_subclass__',\n",
       " '__format__',\n",
       " '__sizeof__',\n",
       " '__dir__',\n",
       " '__class__']"
      ]
     },
     "execution_count": 20,
     "metadata": {},
     "output_type": "execute_result"
    }
   ],
   "source": [
    "d.__dir__()"
   ]
  },
  {
   "cell_type": "code",
   "execution_count": 17,
   "metadata": {},
   "outputs": [
    {
     "ename": "TypeError",
     "evalue": "'method' object is not subscriptable",
     "output_type": "error",
     "traceback": [
      "\u001b[0;31m---------------------------------------------------------------------------\u001b[0m",
      "\u001b[0;31mTypeError\u001b[0m                                 Traceback (most recent call last)",
      "Input \u001b[0;32mIn [17]\u001b[0m, in \u001b[0;36m<module>\u001b[0;34m\u001b[0m\n\u001b[0;32m----> 1\u001b[0m \u001b[43mA\u001b[49m\u001b[43m[\u001b[49m\u001b[38;5;241;43m0\u001b[39;49m\u001b[43m]\u001b[49m\n",
      "\u001b[0;31mTypeError\u001b[0m: 'method' object is not subscriptable"
     ]
    }
   ],
   "source": []
  }
 ],
 "metadata": {
  "interpreter": {
   "hash": "d650a3b94c458c273a536969f20832049d87778dafdd87df0ff4ffcada142abe"
  },
  "kernelspec": {
   "display_name": "Python 3.9.7 64-bit ('nlp': conda)",
   "language": "python",
   "name": "python3"
  },
  "language_info": {
   "codemirror_mode": {
    "name": "ipython",
    "version": 3
   },
   "file_extension": ".py",
   "mimetype": "text/x-python",
   "name": "python",
   "nbconvert_exporter": "python",
   "pygments_lexer": "ipython3",
   "version": "3.9.7"
  },
  "orig_nbformat": 4
 },
 "nbformat": 4,
 "nbformat_minor": 2
}
