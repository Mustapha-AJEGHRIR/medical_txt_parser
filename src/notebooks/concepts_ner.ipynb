{
 "cells": [
  {
   "cell_type": "markdown",
   "metadata": {},
   "source": [
    "# Concepts detection"
   ]
  },
  {
   "cell_type": "code",
   "execution_count": 1,
   "metadata": {},
   "outputs": [
    {
     "name": "stdout",
     "output_type": "stream",
     "text": [
      "/mnt/d/Google Drive/projects/medical_txt_parser\n",
      "/mnt/d/Google Drive/projects/medical_txt_parser\n"
     ]
    }
   ],
   "source": [
    "%reload_ext autoreload\n",
    "%autoreload 2\n",
    "\n",
    "import warnings\n",
    "warnings.filterwarnings(\"ignore\",category=DeprecationWarning)\n",
    "\n",
    "# change directory to project root\n",
    "%cd ../..\n",
    "%cd /mnt/d/Google Drive/projects/medical_txt_parser\n",
    "\n",
    "import glob\n",
    "import pandas as pd\n",
    "import os\n",
    "import numpy as np\n",
    "from tqdm.notebook import tqdm\n",
    "from pprint import pprint\n",
    "\n",
    "import matplotlib.pyplot as plt\n",
    "\n",
    "from src.utils.parse_data import parse_ast, parse_concept, parse_relation"
   ]
  },
  {
   "cell_type": "code",
   "execution_count": 2,
   "metadata": {},
   "outputs": [],
   "source": [
    "train_data_path = \"data/train\"\n",
    "val_data_path = \"data/val\"\n",
    "ast_folder_name = \"ast\"\n",
    "concept_folder_name = \"concept\"\n",
    "rel_folder_name = \"rel\"\n",
    "txt_folder_name = \"txt\""
   ]
  },
  {
   "cell_type": "markdown",
   "metadata": {},
   "source": [
    "### Import data"
   ]
  },
  {
   "cell_type": "code",
   "execution_count": 3,
   "metadata": {},
   "outputs": [
    {
     "data": {
      "application/vnd.jupyter.widget-view+json": {
       "model_id": "51386e253d2b4310a644b46083ad3440",
       "version_major": 2,
       "version_minor": 0
      },
      "text/plain": [
       "  0%|          | 0/170 [00:00<?, ?it/s]"
      ]
     },
     "metadata": {},
     "output_type": "display_data"
    },
    {
     "data": {
      "text/html": [
       "<div>\n",
       "<style scoped>\n",
       "    .dataframe tbody tr th:only-of-type {\n",
       "        vertical-align: middle;\n",
       "    }\n",
       "\n",
       "    .dataframe tbody tr th {\n",
       "        vertical-align: top;\n",
       "    }\n",
       "\n",
       "    .dataframe thead th {\n",
       "        text-align: right;\n",
       "    }\n",
       "</style>\n",
       "<table border=\"1\" class=\"dataframe\">\n",
       "  <thead>\n",
       "    <tr style=\"text-align: right;\">\n",
       "      <th></th>\n",
       "      <th>text</th>\n",
       "      <th>filename</th>\n",
       "      <th>concept</th>\n",
       "    </tr>\n",
       "  </thead>\n",
       "  <tbody>\n",
       "    <tr>\n",
       "      <th>0</th>\n",
       "      <td>018636330 DH\\n5425710\\n123524\\n0144918\\n6/2/20...</td>\n",
       "      <td>018636330_DH</td>\n",
       "      <td>{'concept_text': ['a workup', 'pain', 'microsc...</td>\n",
       "    </tr>\n",
       "    <tr>\n",
       "      <th>1</th>\n",
       "      <td>026350193 RWH\\n7093319\\n549304\\n8417371\\n6/5/2...</td>\n",
       "      <td>026350193_RWH</td>\n",
       "      <td>{'concept_text': ['flexeril', 'constipation', ...</td>\n",
       "    </tr>\n",
       "    <tr>\n",
       "      <th>2</th>\n",
       "      <td>037945397 RWH\\n2690633\\n194867\\n151887\\n10/17/...</td>\n",
       "      <td>037945397_RWH</td>\n",
       "      <td>{'concept_text': ['ivf', 'near syncope', 'recu...</td>\n",
       "    </tr>\n",
       "    <tr>\n",
       "      <th>3</th>\n",
       "      <td>044687343 ELMVH\\n01719921\\n1626859\\n3/13/2006 ...</td>\n",
       "      <td>044687343_ELMVH</td>\n",
       "      <td>{'concept_text': ['lisinopril pump', 'bipap', ...</td>\n",
       "    </tr>\n",
       "    <tr>\n",
       "      <th>4</th>\n",
       "      <td>060376519 DH\\n0649031\\n323495\\n3838556\\n4/5/20...</td>\n",
       "      <td>060376519_DH</td>\n",
       "      <td>{'concept_text': ['dizziness', 'benign positio...</td>\n",
       "    </tr>\n",
       "  </tbody>\n",
       "</table>\n",
       "</div>"
      ],
      "text/plain": [
       "                                                text         filename  \\\n",
       "0  018636330 DH\\n5425710\\n123524\\n0144918\\n6/2/20...     018636330_DH   \n",
       "1  026350193 RWH\\n7093319\\n549304\\n8417371\\n6/5/2...    026350193_RWH   \n",
       "2  037945397 RWH\\n2690633\\n194867\\n151887\\n10/17/...    037945397_RWH   \n",
       "3  044687343 ELMVH\\n01719921\\n1626859\\n3/13/2006 ...  044687343_ELMVH   \n",
       "4  060376519 DH\\n0649031\\n323495\\n3838556\\n4/5/20...     060376519_DH   \n",
       "\n",
       "                                             concept  \n",
       "0  {'concept_text': ['a workup', 'pain', 'microsc...  \n",
       "1  {'concept_text': ['flexeril', 'constipation', ...  \n",
       "2  {'concept_text': ['ivf', 'near syncope', 'recu...  \n",
       "3  {'concept_text': ['lisinopril pump', 'bipap', ...  \n",
       "4  {'concept_text': ['dizziness', 'benign positio...  "
      ]
     },
     "execution_count": 3,
     "metadata": {},
     "output_type": "execute_result"
    }
   ],
   "source": [
    "text_files = glob.glob(train_data_path + os.sep + txt_folder_name + os.sep +  \"*.txt\")\n",
    "filename = \"\"\n",
    "df = pd.DataFrame()\n",
    "for file in tqdm(text_files):\n",
    "    with open(file, 'r') as f:\n",
    "        text = f.read()\n",
    "        filename = file.split(\"/\")[-1].split(\".\")[0]\n",
    "        concept = parse_concept(train_data_path + os.sep + concept_folder_name + os.sep +  filename + \".con\")\n",
    "        \n",
    "        df = df.append(pd.DataFrame({\"text\": [text], \"filename\": [filename] , \"concept\": [concept]}), ignore_index=True)\n",
    "df.head()"
   ]
  },
  {
   "cell_type": "code",
   "execution_count": 4,
   "metadata": {},
   "outputs": [
    {
     "data": {
      "text/html": [
       "<div>\n",
       "<style scoped>\n",
       "    .dataframe tbody tr th:only-of-type {\n",
       "        vertical-align: middle;\n",
       "    }\n",
       "\n",
       "    .dataframe tbody tr th {\n",
       "        vertical-align: top;\n",
       "    }\n",
       "\n",
       "    .dataframe thead th {\n",
       "        text-align: right;\n",
       "    }\n",
       "</style>\n",
       "<table border=\"1\" class=\"dataframe\">\n",
       "  <thead>\n",
       "    <tr style=\"text-align: right;\">\n",
       "      <th></th>\n",
       "      <th>filename</th>\n",
       "      <th>concept_text</th>\n",
       "      <th>start_line</th>\n",
       "      <th>start_word_number</th>\n",
       "      <th>end_line</th>\n",
       "      <th>end_word_number</th>\n",
       "      <th>concept_type</th>\n",
       "    </tr>\n",
       "  </thead>\n",
       "  <tbody>\n",
       "    <tr>\n",
       "      <th>0</th>\n",
       "      <td>018636330_DH</td>\n",
       "      <td>a workup</td>\n",
       "      <td>27</td>\n",
       "      <td>2</td>\n",
       "      <td>27</td>\n",
       "      <td>3</td>\n",
       "      <td>test</td>\n",
       "    </tr>\n",
       "    <tr>\n",
       "      <th>1</th>\n",
       "      <td>018636330_DH</td>\n",
       "      <td>pain</td>\n",
       "      <td>55</td>\n",
       "      <td>10</td>\n",
       "      <td>55</td>\n",
       "      <td>10</td>\n",
       "      <td>problem</td>\n",
       "    </tr>\n",
       "    <tr>\n",
       "      <th>2</th>\n",
       "      <td>018636330_DH</td>\n",
       "      <td>microscopic anterior cervical diskectomy at c5-6</td>\n",
       "      <td>23</td>\n",
       "      <td>0</td>\n",
       "      <td>23</td>\n",
       "      <td>5</td>\n",
       "      <td>treatment</td>\n",
       "    </tr>\n",
       "    <tr>\n",
       "      <th>3</th>\n",
       "      <td>018636330_DH</td>\n",
       "      <td>hyperlipidemia</td>\n",
       "      <td>29</td>\n",
       "      <td>4</td>\n",
       "      <td>29</td>\n",
       "      <td>4</td>\n",
       "      <td>problem</td>\n",
       "    </tr>\n",
       "    <tr>\n",
       "      <th>4</th>\n",
       "      <td>018636330_DH</td>\n",
       "      <td>po pain medications</td>\n",
       "      <td>47</td>\n",
       "      <td>7</td>\n",
       "      <td>47</td>\n",
       "      <td>9</td>\n",
       "      <td>treatment</td>\n",
       "    </tr>\n",
       "  </tbody>\n",
       "</table>\n",
       "</div>"
      ],
      "text/plain": [
       "       filename                                      concept_text start_line  \\\n",
       "0  018636330_DH                                          a workup         27   \n",
       "1  018636330_DH                                              pain         55   \n",
       "2  018636330_DH  microscopic anterior cervical diskectomy at c5-6         23   \n",
       "3  018636330_DH                                    hyperlipidemia         29   \n",
       "4  018636330_DH                               po pain medications         47   \n",
       "\n",
       "  start_word_number end_line end_word_number concept_type  \n",
       "0                 2       27               3         test  \n",
       "1                10       55              10      problem  \n",
       "2                 0       23               5    treatment  \n",
       "3                 4       29               4      problem  \n",
       "4                 7       47               9    treatment  "
      ]
     },
     "execution_count": 4,
     "metadata": {},
     "output_type": "execute_result"
    }
   ],
   "source": [
    "concept_df = pd.DataFrame(columns=[ \"filename\"]+list(concept.keys()))\n",
    "for i, file in df.iterrows():\n",
    "    concept_dict = file[\"concept\"]\n",
    "    tmp = pd.DataFrame(concept_dict)\n",
    "    tmp[\"filename\"] = file[\"filename\"]\n",
    "    concept_df = concept_df.append(tmp, ignore_index=True)\n",
    "concept_df.head()"
   ]
  },
  {
   "cell_type": "markdown",
   "metadata": {},
   "source": [
    "### Dataset Consolidation"
   ]
  },
  {
   "cell_type": "code",
   "execution_count": 6,
   "metadata": {},
   "outputs": [
    {
     "data": {
      "text/html": [
       "<div>\n",
       "<style scoped>\n",
       "    .dataframe tbody tr th:only-of-type {\n",
       "        vertical-align: middle;\n",
       "    }\n",
       "\n",
       "    .dataframe tbody tr th {\n",
       "        vertical-align: top;\n",
       "    }\n",
       "\n",
       "    .dataframe thead th {\n",
       "        text-align: right;\n",
       "    }\n",
       "</style>\n",
       "<table border=\"1\" class=\"dataframe\">\n",
       "  <thead>\n",
       "    <tr style=\"text-align: right;\">\n",
       "      <th></th>\n",
       "      <th>filename</th>\n",
       "      <th>concept_text</th>\n",
       "      <th>start_line</th>\n",
       "      <th>start_word_number</th>\n",
       "      <th>end_line</th>\n",
       "      <th>end_word_number</th>\n",
       "      <th>concept_type</th>\n",
       "    </tr>\n",
       "  </thead>\n",
       "  <tbody>\n",
       "  </tbody>\n",
       "</table>\n",
       "</div>"
      ],
      "text/plain": [
       "Empty DataFrame\n",
       "Columns: [filename, concept_text, start_line, start_word_number, end_line, end_word_number, concept_type]\n",
       "Index: []"
      ]
     },
     "execution_count": 6,
     "metadata": {},
     "output_type": "execute_result"
    }
   ],
   "source": [
    "# check start_line == end_line\n",
    "concept_df[concept_df[\"start_line\"] != concept_df[\"end_line\"]]"
   ]
  },
  {
   "cell_type": "code",
   "execution_count": 5,
   "metadata": {},
   "outputs": [],
   "source": [
    "# print a random text\n",
    "consolidated_df = {}\n",
    "\n",
    "for i, row in concept_df.iterrows():\n",
    "    filename = row[\"filename\"]\n",
    "    text = df[df[\"filename\"] == filename][\"text\"].values[0]\n",
    "    line = text.split(\"\\n\")[row[\"start_line\"]] # NOTE: we assume that start_line == end_line\n",
    "    # find wo\n",
    "    if filename in consolidated_df:\n",
    "        consolidated_df[filename][\"prob_indices_start\"] = row\n",
    "    else:\n",
    "        consolidated_dataset[filename] = {\n",
    "            \"text\": line,\n",
    "            \"problem\" : [],\n",
    "            \"test\": [],\n",
    "            \"treatment\": [],\n",
    "            # use sets because the indices can repeat for various reasons\n",
    "            \"drug_indices_start\": set(row[\"indexes\"][\"drug\"][\"start_char\"]),\n",
    "            \"drug_indices_end\": set(row[\"indexes\"][\"drug\"][\"end_char\"]),\n",
    "            \"problem_indices_start\": set(),\n",
    "            \"problem_indices_end\": set(),\n",
    "            \"test_indices_start\": set(),\n",
    "            \"test_indices_end\": set(),\n",
    "            \"treatment_indices_start\": set(),\n",
    "            \"treatment_indices_end\": set(),\n",
    "        }\n",
    "        if row[\"concept\"] == \"problem\":\n",
    "            consolidated_dataset[filename][\"problem\"].append(row[\"concept_text\"])\n",
    "            consolidated_dataset[filename][\"problem_indices_start\"].add(\n"
   ]
  },
  {
   "cell_type": "code",
   "execution_count": null,
   "metadata": {},
   "outputs": [],
   "source": []
  }
 ],
 "metadata": {
  "interpreter": {
   "hash": "e2a6cb9a7be66dff740cce83a34a934469b6132ecbf60107b2f98f6b92406a0e"
  },
  "kernelspec": {
   "display_name": "Python 3.9.5 64-bit ('pt-gpu': conda)",
   "language": "python",
   "name": "python3"
  },
  "language_info": {
   "codemirror_mode": {
    "name": "ipython",
    "version": 3
   },
   "file_extension": ".py",
   "mimetype": "text/x-python",
   "name": "python",
   "nbconvert_exporter": "python",
   "pygments_lexer": "ipython3",
   "version": "3.9.5"
  },
  "orig_nbformat": 4
 },
 "nbformat": 4,
 "nbformat_minor": 2
}
