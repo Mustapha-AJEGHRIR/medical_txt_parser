{
 "cells": [
  {
   "cell_type": "markdown",
   "metadata": {},
   "source": [
    "# EDA\n",
    "This notebook is used to perform exploratory data analysis on the data.\n"
   ]
  },
  {
   "cell_type": "code",
   "execution_count": 124,
   "metadata": {},
   "outputs": [],
   "source": [
    "import glob\n",
    "import pandas as pd\n",
    "import os\n",
    "\n",
    "from src.utils.parse_data import parse_ast"
   ]
  },
  {
   "cell_type": "code",
   "execution_count": 24,
   "metadata": {},
   "outputs": [
    {
     "name": "stdout",
     "output_type": "stream",
     "text": [
      "/mnt/d/Google Drive/projects\n",
      "/mnt/d/Google Drive/projects/medical_txt_parser\n"
     ]
    }
   ],
   "source": [
    "# change directory to project root\n",
    "%cd ../..\n",
    "%cd /mnt/d/Google Drive/projects/medical_txt_parser\n",
    "\n",
    "train_data_path = \"data/train_data\"\n",
    "val_data_path = \"data/val_data\"\n",
    "ast_folder_name = \"ast\"\n",
    "concept_folder_name = \"concept\"\n",
    "rel_folder_name = \"rel\"\n",
    "txt_folder_name = \"txt\""
   ]
  },
  {
   "cell_type": "markdown",
   "metadata": {},
   "source": [
    "### Import data"
   ]
  },
  {
   "cell_type": "code",
   "execution_count": 125,
   "metadata": {},
   "outputs": [
    {
     "data": {
      "text/html": [
       "<div>\n",
       "<style scoped>\n",
       "    .dataframe tbody tr th:only-of-type {\n",
       "        vertical-align: middle;\n",
       "    }\n",
       "\n",
       "    .dataframe tbody tr th {\n",
       "        vertical-align: top;\n",
       "    }\n",
       "\n",
       "    .dataframe thead th {\n",
       "        text-align: right;\n",
       "    }\n",
       "</style>\n",
       "<table border=\"1\" class=\"dataframe\">\n",
       "  <thead>\n",
       "    <tr style=\"text-align: right;\">\n",
       "      <th></th>\n",
       "      <th>text</th>\n",
       "      <th>filename</th>\n",
       "      <th>ast</th>\n",
       "    </tr>\n",
       "  </thead>\n",
       "  <tbody>\n",
       "    <tr>\n",
       "      <th>0</th>\n",
       "      <td>018636330 DH\\n5425710\\n123524\\n0144918\\n6/2/20...</td>\n",
       "      <td>018636330_DH</td>\n",
       "      <td>{'concept_text': ['pain', 'hyperlipidemia', 'h...</td>\n",
       "    </tr>\n",
       "    <tr>\n",
       "      <th>1</th>\n",
       "      <td>026350193 RWH\\n7093319\\n549304\\n8417371\\n6/5/2...</td>\n",
       "      <td>026350193_RWH</td>\n",
       "      <td>{'concept_text': ['constipation', 'left should...</td>\n",
       "    </tr>\n",
       "    <tr>\n",
       "      <th>2</th>\n",
       "      <td>037945397 RWH\\n2690633\\n194867\\n151887\\n10/17/...</td>\n",
       "      <td>037945397_RWH</td>\n",
       "      <td>{'concept_text': ['near syncope', 'recurrent d...</td>\n",
       "    </tr>\n",
       "    <tr>\n",
       "      <th>3</th>\n",
       "      <td>044687343 ELMVH\\n01719921\\n1626859\\n3/13/2006 ...</td>\n",
       "      <td>044687343_ELMVH</td>\n",
       "      <td>{'concept_text': ['copd', 'nad', 'fatigue', 'g...</td>\n",
       "    </tr>\n",
       "    <tr>\n",
       "      <th>4</th>\n",
       "      <td>060376519 DH\\n0649031\\n323495\\n3838556\\n4/5/20...</td>\n",
       "      <td>060376519_DH</td>\n",
       "      <td>{'concept_text': ['dizziness', 'benign positio...</td>\n",
       "    </tr>\n",
       "  </tbody>\n",
       "</table>\n",
       "</div>"
      ],
      "text/plain": [
       "                                                text         filename  \\\n",
       "0  018636330 DH\\n5425710\\n123524\\n0144918\\n6/2/20...     018636330_DH   \n",
       "1  026350193 RWH\\n7093319\\n549304\\n8417371\\n6/5/2...    026350193_RWH   \n",
       "2  037945397 RWH\\n2690633\\n194867\\n151887\\n10/17/...    037945397_RWH   \n",
       "3  044687343 ELMVH\\n01719921\\n1626859\\n3/13/2006 ...  044687343_ELMVH   \n",
       "4  060376519 DH\\n0649031\\n323495\\n3838556\\n4/5/20...     060376519_DH   \n",
       "\n",
       "                                                 ast  \n",
       "0  {'concept_text': ['pain', 'hyperlipidemia', 'h...  \n",
       "1  {'concept_text': ['constipation', 'left should...  \n",
       "2  {'concept_text': ['near syncope', 'recurrent d...  \n",
       "3  {'concept_text': ['copd', 'nad', 'fatigue', 'g...  \n",
       "4  {'concept_text': ['dizziness', 'benign positio...  "
      ]
     },
     "execution_count": 125,
     "metadata": {},
     "output_type": "execute_result"
    }
   ],
   "source": [
    "text_files = glob.glob(train_data_path + os.sep + txt_folder_name + os.sep +  \"*.txt\")\n",
    "filename = \"\"\n",
    "df = pd.DataFrame()\n",
    "for file in text_files:\n",
    "    with open(file, 'r') as f:\n",
    "        text = f.read()\n",
    "        filename = file.split(\"/\")[-1].split(\".\")[0]\n",
    "        ast = parse_ast(train_data_path + os.sep + ast_folder_name + os.sep +  filename + \".ast\")\n",
    "        # merge dictionaries\n",
    "        \n",
    "        df = df.append(pd.DataFrame({\"text\": [text], \"filename\": [filename] , \"ast\": [ast]}), ignore_index=True)\n",
    "df.head()"
   ]
  },
  {
   "cell_type": "code",
   "execution_count": 126,
   "metadata": {},
   "outputs": [
    {
     "name": "stdout",
     "output_type": "stream",
     "text": [
      "{'concept_text': ['pain', 'hyperlipidemia', 'her pain', 'cord compression', 'chills', 'hyperreflexia', 'partial decompression of the spinal canal', 'bilateral hand numbness', '10 beats of clonus', 'c5-6 disc herniation', 'cord compression', 'myelopathy', 'these symptoms', 'occasional weakness', 'a c5-6 disc herniation', 'a t2 signal change', 'her hyperreflexia', 'hypertension', 'fevers', 'numbness', 'bowel and bladder disruption', '3-5 beats in the left foot', 'known drug allergy', 'increasing weakness'], 'start_line': [55, 29, 47, 27, 50, 40, 43, 25, 39, 21, 21, 21, 26, 25, 27, 27, 44, 29, 50, 50, 50, 39, 33, 50], 'start_word_number': [10, 4, 0, 16, 9, 2, 8, 11, 16, 0, 4, 7, 5, 15, 11, 19, 9, 2, 7, 14, 17, 25, 3, 11], 'end_line': [55, 29, 47, 27, 50, 40, 43, 25, 39, 21, 21, 21, 26, 25, 27, 27, 44, 29, 50, 50, 50, 39, 33, 50], 'end_word_number': [10, 4, 1, 17, 9, 2, 13, 13, 19, 2, 5, 7, 6, 16, 14, 22, 10, 2, 7, 14, 20, 30, 5, 12], 'concept_type': ['problem', 'problem', 'problem', 'problem', 'problem', 'problem', 'problem', 'problem', 'problem', 'problem', 'problem', 'problem', 'problem', 'problem', 'problem', 'problem', 'problem', 'problem', 'problem', 'problem', 'problem', 'problem', 'problem', 'problem'], 'assertion_type': ['hypothetical', 'present', 'present', 'present', 'hypothetical', 'present', 'present', 'present', 'present', 'present', 'present', 'present', 'present', 'present', 'present', 'present', 'present', 'present', 'hypothetical', 'hypothetical', 'hypothetical', 'present', 'absent', 'hypothetical']}\n"
     ]
    }
   ],
   "source": [
    "print(df.ast[0])"
   ]
  },
  {
   "cell_type": "code",
   "execution_count": null,
   "metadata": {},
   "outputs": [],
   "source": []
  }
 ],
 "metadata": {
  "interpreter": {
   "hash": "916dbcbb3f70747c44a77c7bcd40155683ae19c65e1c03b4aa3499c5328201f1"
  },
  "kernelspec": {
   "display_name": "Python 3.8.10 64-bit",
   "language": "python",
   "name": "python3"
  },
  "language_info": {
   "codemirror_mode": {
    "name": "ipython",
    "version": 3
   },
   "file_extension": ".py",
   "mimetype": "text/x-python",
   "name": "python",
   "nbconvert_exporter": "python",
   "pygments_lexer": "ipython3",
   "version": "3.9.5"
  },
  "orig_nbformat": 4
 },
 "nbformat": 4,
 "nbformat_minor": 2
}
