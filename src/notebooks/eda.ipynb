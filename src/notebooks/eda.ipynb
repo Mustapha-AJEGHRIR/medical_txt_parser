{
 "cells": [
  {
   "cell_type": "markdown",
   "metadata": {},
   "source": [
    "# EDA\n",
    "This notebook is used to perform exploratory data analysis on the data.\n"
   ]
  },
  {
   "cell_type": "code",
   "execution_count": 22,
   "metadata": {},
   "outputs": [],
   "source": [
    "%reload_ext autoreload\n",
    "%autoreload 2\n",
    "\n",
    "# Go to root folder\n",
    "path = %pwd\n",
    "while \"src\" in path:\n",
    "    %cd ..\n",
    "    path = %pwd\n",
    "    \n",
    "import glob\n",
    "import pandas as pd\n",
    "import os\n",
    "from pprint import pprint\n",
    "\n",
    "from src.utils.parse_data import parse_ast, parse_concept, parse_relation"
   ]
  },
  {
   "cell_type": "code",
   "execution_count": 28,
   "metadata": {},
   "outputs": [],
   "source": [
    "train_data_path = \"data/train\"\n",
    "val_data_path = \"data/val_data\"\n",
    "ast_folder_name = \"ast\"\n",
    "concept_folder_name = \"concept\"\n",
    "rel_folder_name = \"rel\"\n",
    "txt_folder_name = \"txt\""
   ]
  },
  {
   "cell_type": "markdown",
   "metadata": {},
   "source": [
    "### Import data"
   ]
  },
  {
   "cell_type": "code",
   "execution_count": 30,
   "metadata": {},
   "outputs": [
    {
     "data": {
      "text/html": [
       "<div>\n",
       "<style scoped>\n",
       "    .dataframe tbody tr th:only-of-type {\n",
       "        vertical-align: middle;\n",
       "    }\n",
       "\n",
       "    .dataframe tbody tr th {\n",
       "        vertical-align: top;\n",
       "    }\n",
       "\n",
       "    .dataframe thead th {\n",
       "        text-align: right;\n",
       "    }\n",
       "</style>\n",
       "<table border=\"1\" class=\"dataframe\">\n",
       "  <thead>\n",
       "    <tr style=\"text-align: right;\">\n",
       "      <th></th>\n",
       "      <th>text</th>\n",
       "      <th>filename</th>\n",
       "      <th>concept</th>\n",
       "      <th>ast</th>\n",
       "      <th>rel</th>\n",
       "    </tr>\n",
       "  </thead>\n",
       "  <tbody>\n",
       "    <tr>\n",
       "      <th>0</th>\n",
       "      <td>018636330 DH\\n5425710\\n123524\\n0144918\\n6/2/20...</td>\n",
       "      <td>018636330_DH</td>\n",
       "      <td>{'concept_text': ['a workup', 'pain', 'microsc...</td>\n",
       "      <td>{'concept_text': ['pain', 'hyperlipidemia', 'h...</td>\n",
       "      <td>{'concept_text_1': ['po pain medications', 'a ...</td>\n",
       "    </tr>\n",
       "    <tr>\n",
       "      <th>1</th>\n",
       "      <td>026350193 RWH\\n7093319\\n549304\\n8417371\\n6/5/2...</td>\n",
       "      <td>026350193_RWH</td>\n",
       "      <td>{'concept_text': ['flexeril', 'constipation', ...</td>\n",
       "      <td>{'concept_text': ['constipation', 'left should...</td>\n",
       "      <td>{'concept_text_1': [], 'start_line_1': [], 'st...</td>\n",
       "    </tr>\n",
       "    <tr>\n",
       "      <th>2</th>\n",
       "      <td>037945397 RWH\\n2690633\\n194867\\n151887\\n10/17/...</td>\n",
       "      <td>037945397_RWH</td>\n",
       "      <td>{'concept_text': ['ivf', 'near syncope', 'recu...</td>\n",
       "      <td>{'concept_text': ['near syncope', 'recurrent d...</td>\n",
       "      <td>{'concept_text_1': [], 'start_line_1': [], 'st...</td>\n",
       "    </tr>\n",
       "    <tr>\n",
       "      <th>3</th>\n",
       "      <td>044687343 ELMVH\\n01719921\\n1626859\\n3/13/2006 ...</td>\n",
       "      <td>044687343_ELMVH</td>\n",
       "      <td>{'concept_text': ['lisinopril pump', 'bipap', ...</td>\n",
       "      <td>{'concept_text': ['copd', 'nad', 'fatigue', 'g...</td>\n",
       "      <td>{'concept_text_1': ['bipap', 'fatigue', 'ekg',...</td>\n",
       "    </tr>\n",
       "    <tr>\n",
       "      <th>4</th>\n",
       "      <td>060376519 DH\\n0649031\\n323495\\n3838556\\n4/5/20...</td>\n",
       "      <td>060376519_DH</td>\n",
       "      <td>{'concept_text': ['dizziness', 'benign positio...</td>\n",
       "      <td>{'concept_text': ['dizziness', 'benign positio...</td>\n",
       "      <td>{'concept_text_1': ['fever'], 'start_line_1': ...</td>\n",
       "    </tr>\n",
       "  </tbody>\n",
       "</table>\n",
       "</div>"
      ],
      "text/plain": [
       "                                                text         filename  \\\n",
       "0  018636330 DH\\n5425710\\n123524\\n0144918\\n6/2/20...     018636330_DH   \n",
       "1  026350193 RWH\\n7093319\\n549304\\n8417371\\n6/5/2...    026350193_RWH   \n",
       "2  037945397 RWH\\n2690633\\n194867\\n151887\\n10/17/...    037945397_RWH   \n",
       "3  044687343 ELMVH\\n01719921\\n1626859\\n3/13/2006 ...  044687343_ELMVH   \n",
       "4  060376519 DH\\n0649031\\n323495\\n3838556\\n4/5/20...     060376519_DH   \n",
       "\n",
       "                                             concept  \\\n",
       "0  {'concept_text': ['a workup', 'pain', 'microsc...   \n",
       "1  {'concept_text': ['flexeril', 'constipation', ...   \n",
       "2  {'concept_text': ['ivf', 'near syncope', 'recu...   \n",
       "3  {'concept_text': ['lisinopril pump', 'bipap', ...   \n",
       "4  {'concept_text': ['dizziness', 'benign positio...   \n",
       "\n",
       "                                                 ast  \\\n",
       "0  {'concept_text': ['pain', 'hyperlipidemia', 'h...   \n",
       "1  {'concept_text': ['constipation', 'left should...   \n",
       "2  {'concept_text': ['near syncope', 'recurrent d...   \n",
       "3  {'concept_text': ['copd', 'nad', 'fatigue', 'g...   \n",
       "4  {'concept_text': ['dizziness', 'benign positio...   \n",
       "\n",
       "                                                 rel  \n",
       "0  {'concept_text_1': ['po pain medications', 'a ...  \n",
       "1  {'concept_text_1': [], 'start_line_1': [], 'st...  \n",
       "2  {'concept_text_1': [], 'start_line_1': [], 'st...  \n",
       "3  {'concept_text_1': ['bipap', 'fatigue', 'ekg',...  \n",
       "4  {'concept_text_1': ['fever'], 'start_line_1': ...  "
      ]
     },
     "execution_count": 30,
     "metadata": {},
     "output_type": "execute_result"
    }
   ],
   "source": [
    "text_files = glob.glob(train_data_path + os.sep + txt_folder_name + os.sep +  \"*.txt\")\n",
    "filename = \"\"\n",
    "df = pd.DataFrame()\n",
    "for file in text_files:\n",
    "    with open(file, 'r') as f:\n",
    "        text = f.read()\n",
    "        filename = file.split(\"/\")[-1].split(\".\")[0]\n",
    "        ast = parse_ast(train_data_path + os.sep + ast_folder_name + os.sep +  filename + \".ast\")\n",
    "        concept = parse_concept(train_data_path + os.sep + concept_folder_name + os.sep +  filename + \".con\")\n",
    "        rel = parse_relation(train_data_path + os.sep + rel_folder_name + os.sep +  filename + \".rel\")\n",
    "        \n",
    "        df = df.append(pd.DataFrame({\"text\": [text], \"filename\": [filename] , \"concept\": [concept], \"ast\": [ast], \"rel\": [rel]}), ignore_index=True)\n",
    "df.head()"
   ]
  },
  {
   "cell_type": "code",
   "execution_count": 31,
   "metadata": {},
   "outputs": [
    {
     "name": "stdout",
     "output_type": "stream",
     "text": [
      "{'concept_text': ['a workup', 'pain', 'microscopic anterior cervical diskectomy at c5-6', 'hyperlipidemia', 'po pain medications', 'her pain', 'wound check', 'cord compression', 'fusion', 'flexeril', 'chills', 'hyperreflexia', 'colace', 'a postoperative ct scan', 'partial decompression of the spinal canal', 'her hardware', 'a hoffman &apos;s sign', 'bilateral hand numbness', '10 beats of clonus', 'percocet', 'c5-6 disc herniation', 'cord compression', 'myelopathy', 'lipitor', 'these symptoms', 'hydrochlorothiazide', 'norvasc', 'occasional weakness', 'a c5-6 disc herniation', 'a t2 signal change', 'her hyperreflexia', 'hypertension', 'fevers', 'numbness', 'an mri', 'hydrochlorothiazide', 'norvasc', 'bowel and bladder disruption', '3-5 beats in the left foot', 'known drug allergy', 'increasing weakness', 'a c5-6 acdf', 'lipitor', 'zantac', 'her exam'], 'start_line': [27, 55, 23, 29, 47, 47, 49, 27, 23, 31, 50, 40, 53, 43, 43, 43, 39, 25, 39, 55, 21, 21, 21, 31, 26, 57, 31, 25, 27, 27, 44, 29, 50, 50, 27, 31, 58, 50, 39, 33, 50, 42, 56, 54, 44], 'start_word_number': [2, 10, 0, 4, 7, 0, 16, 16, 7, 2, 9, 2, 1, 2, 8, 18, 2, 11, 16, 1, 0, 4, 7, 0, 5, 1, 6, 15, 11, 19, 9, 2, 7, 14, 8, 4, 1, 17, 25, 3, 11, 3, 1, 1, 3], 'end_line': [27, 55, 23, 29, 47, 47, 49, 27, 23, 31, 50, 40, 53, 43, 43, 43, 39, 25, 39, 55, 21, 21, 21, 31, 26, 57, 31, 25, 27, 27, 44, 29, 50, 50, 27, 31, 58, 50, 39, 33, 50, 42, 56, 54, 44], 'end_word_number': [3, 10, 5, 4, 9, 1, 17, 17, 7, 2, 9, 2, 1, 5, 13, 19, 5, 13, 19, 1, 2, 5, 7, 0, 6, 1, 6, 16, 14, 22, 10, 2, 7, 14, 9, 4, 1, 20, 30, 5, 12, 5, 1, 1, 4], 'concept_type': ['test', 'problem', 'treatment', 'problem', 'treatment', 'problem', 'test', 'problem', 'treatment', 'treatment', 'problem', 'problem', 'treatment', 'test', 'problem', 'treatment', 'test', 'problem', 'problem', 'treatment', 'problem', 'problem', 'problem', 'treatment', 'problem', 'treatment', 'treatment', 'problem', 'problem', 'problem', 'problem', 'problem', 'problem', 'problem', 'test', 'treatment', 'treatment', 'problem', 'problem', 'problem', 'problem', 'treatment', 'treatment', 'treatment', 'test']}\n"
     ]
    }
   ],
   "source": [
    "print(df.concept[0])"
   ]
  },
  {
   "cell_type": "code",
   "execution_count": 32,
   "metadata": {},
   "outputs": [
    {
     "name": "stdout",
     "output_type": "stream",
     "text": [
      "{'concept_text': ['pain', 'hyperlipidemia', 'her pain', 'cord compression', 'chills', 'hyperreflexia', 'partial decompression of the spinal canal', 'bilateral hand numbness', '10 beats of clonus', 'c5-6 disc herniation', 'cord compression', 'myelopathy', 'these symptoms', 'occasional weakness', 'a c5-6 disc herniation', 'a t2 signal change', 'her hyperreflexia', 'hypertension', 'fevers', 'numbness', 'bowel and bladder disruption', '3-5 beats in the left foot', 'known drug allergy', 'increasing weakness'], 'start_line': [55, 29, 47, 27, 50, 40, 43, 25, 39, 21, 21, 21, 26, 25, 27, 27, 44, 29, 50, 50, 50, 39, 33, 50], 'start_word_number': [10, 4, 0, 16, 9, 2, 8, 11, 16, 0, 4, 7, 5, 15, 11, 19, 9, 2, 7, 14, 17, 25, 3, 11], 'end_line': [55, 29, 47, 27, 50, 40, 43, 25, 39, 21, 21, 21, 26, 25, 27, 27, 44, 29, 50, 50, 50, 39, 33, 50], 'end_word_number': [10, 4, 1, 17, 9, 2, 13, 13, 19, 2, 5, 7, 6, 16, 14, 22, 10, 2, 7, 14, 20, 30, 5, 12], 'concept_type': ['problem', 'problem', 'problem', 'problem', 'problem', 'problem', 'problem', 'problem', 'problem', 'problem', 'problem', 'problem', 'problem', 'problem', 'problem', 'problem', 'problem', 'problem', 'problem', 'problem', 'problem', 'problem', 'problem', 'problem'], 'assertion_type': ['hypothetical', 'present', 'present', 'present', 'hypothetical', 'present', 'present', 'present', 'present', 'present', 'present', 'present', 'present', 'present', 'present', 'present', 'present', 'present', 'hypothetical', 'hypothetical', 'hypothetical', 'present', 'absent', 'hypothetical']}\n"
     ]
    }
   ],
   "source": [
    "print(df.ast[0])"
   ]
  },
  {
   "cell_type": "code",
   "execution_count": 33,
   "metadata": {},
   "outputs": [
    {
     "name": "stdout",
     "output_type": "stream",
     "text": [
      "{'concept_text_1': ['po pain medications', 'a postoperative ct scan', 'percocet', 'c5-6 disc herniation', 'c5-6 disc herniation', 'a c5-6 disc herniation', 'an mri', 'an mri', 'an mri', 'her exam'], 'start_line_1': [47, 43, 55, 21, 21, 27, 27, 27, 27, 44], 'start_word_number_1': [7, 2, 1, 0, 0, 11, 8, 8, 8, 3], 'end_line_1': [47, 43, 55, 21, 21, 27, 27, 27, 27, 44], 'end_word_number_1': [9, 5, 1, 2, 2, 14, 9, 9, 9, 4], 'concept_text_2': ['her pain', 'partial decompression of the spinal canal', 'pain', 'cord compression', 'myelopathy', 'cord compression', 'a c5-6 disc herniation', 'cord compression', 'a t2 signal change', 'her hyperreflexia'], 'start_line_2': [47, 43, 55, 21, 21, 27, 27, 27, 27, 44], 'start_word_number_2': [0, 8, 10, 4, 7, 16, 11, 16, 19, 9], 'end_line_2': [47, 43, 55, 21, 21, 27, 27, 27, 27, 44], 'end_word_number_2': [1, 13, 10, 5, 7, 17, 14, 17, 22, 10], 'relation_type': ['TrIP', 'TeRP', 'TrAP', 'PIP', 'PIP', 'PIP', 'TeRP', 'TeRP', 'TeRP', 'TeCP']}\n"
     ]
    }
   ],
   "source": [
    "print(df.rel[0])\n"
   ]
  },
  {
   "cell_type": "code",
   "execution_count": null,
   "metadata": {},
   "outputs": [],
   "source": []
  }
 ],
 "metadata": {
  "interpreter": {
   "hash": "916dbcbb3f70747c44a77c7bcd40155683ae19c65e1c03b4aa3499c5328201f1"
  },
  "kernelspec": {
   "display_name": "Python 3.8.10 64-bit",
   "language": "python",
   "name": "python3"
  },
  "language_info": {
   "codemirror_mode": {
    "name": "ipython",
    "version": 3
   },
   "file_extension": ".py",
   "mimetype": "text/x-python",
   "name": "python",
   "nbconvert_exporter": "python",
   "pygments_lexer": "ipython3",
   "version": "3.9.5"
  },
  "orig_nbformat": 4
 },
 "nbformat": 4,
 "nbformat_minor": 2
}
